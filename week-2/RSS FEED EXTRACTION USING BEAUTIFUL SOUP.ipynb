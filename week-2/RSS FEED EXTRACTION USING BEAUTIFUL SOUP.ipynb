{
 "cells": [
  {
   "cell_type": "code",
   "execution_count": 2,
   "id": "a96b068a",
   "metadata": {},
   "outputs": [
    {
     "name": "stdout",
     "output_type": "stream",
     "text": [
      "DataFrame is written to Excel File successfully.\n"
     ]
    }
   ],
   "source": [
    "import requests\n",
    "from bs4 import BeautifulSoup as bs\n",
    "import pandas as pd\n",
    "url =  \"https://www.thehindu.com/business/Economy/feeder/default.rss\"\n",
    "req = requests.get(url).content\n",
    "webpage = bs(req,features = \"xml\")\n",
    "#print(webpage.prettify())\n",
    "items = webpage.find_all(\"item\")\n",
    "#print(items)\n",
    "news_items = []\n",
    "for item in items:\n",
    "    news_item = {}\n",
    "    news_item['Title'] = item.title.text.strip()\n",
    "    news_item['Description'] = item.description.text.strip()\n",
    "    news_item['Author'] = item.author.text.strip()\n",
    "    news_item['Publishing Date'] = item.pubDate.text.strip()\n",
    "    news_item['Link'] = item.link.text.strip()\n",
    "    news_items.append(news_item)\n",
    "#print(news_items)\n",
    "df = pd.DataFrame(news_items)\n",
    "#print(df)\n",
    "filename_excel = \"Articles on Economy in THE HINDU.xlsx\"\n",
    "filename_csv = \"Articles on Economy in THE HINDU.csv\"\n",
    "df.to_excel(filename_excel)\n",
    "df.to_csv(filename_csv)\n",
    "print('DataFrame is written to Excel File successfully.')"
   ]
  },
  {
   "cell_type": "code",
   "execution_count": null,
   "id": "8691cb99",
   "metadata": {},
   "outputs": [],
   "source": []
  }
 ],
 "metadata": {
  "kernelspec": {
   "display_name": "Python 3 (ipykernel)",
   "language": "python",
   "name": "python3"
  },
  "language_info": {
   "codemirror_mode": {
    "name": "ipython",
    "version": 3
   },
   "file_extension": ".py",
   "mimetype": "text/x-python",
   "name": "python",
   "nbconvert_exporter": "python",
   "pygments_lexer": "ipython3",
   "version": "3.8.10"
  }
 },
 "nbformat": 4,
 "nbformat_minor": 5
}
